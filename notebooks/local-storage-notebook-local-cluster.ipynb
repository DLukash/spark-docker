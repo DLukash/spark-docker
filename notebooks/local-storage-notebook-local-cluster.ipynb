{
 "cells": [
  {
   "cell_type": "code",
   "execution_count": null,
   "id": "52f6becb-4246-40bc-8983-3f365121d94a",
   "metadata": {},
   "outputs": [],
   "source": [
    "from pyspark import SparkConf, SparkFiles\n",
    "from pyspark.sql import SparkSession\n",
    "from geopandas import GeoDataFrame\n",
    "import pandas as pd\n",
    "from shapely import wkt\n",
    "from pyspark.sql.functions import broadcast, pandas_udf, PandasUDFType, udf, col\n",
    "from pyspark.sql.types import StringType\n",
    "from shapely.geometry import Point\n",
    "import os\n",
    "import json"
   ]
  },
  {
   "cell_type": "markdown",
   "id": "b3765d0a",
   "metadata": {},
   "source": [
    "### Pack enviromant with all dependencies "
   ]
  },
  {
   "cell_type": "code",
   "execution_count": null,
   "id": "68f02664",
   "metadata": {},
   "outputs": [],
   "source": [
    "!conda pack -f -o pyspark_conda_env.tar.gz"
   ]
  },
  {
   "cell_type": "markdown",
   "id": "9947fa69",
   "metadata": {},
   "source": [
    "### Create SparkSession"
   ]
  },
  {
   "cell_type": "code",
   "execution_count": null,
   "id": "1f5e2d48-598c-4652-a1e5-2938fa383063",
   "metadata": {},
   "outputs": [],
   "source": [
    "#spark = SparkSession.builder.master('spark://spark:7077').config(conf=conf).appName('OpenSky_app').getOrCreate()\n",
    "os.environ['PYSPARK_PYTHON'] = \"./environment/bin/python\"\n",
    "spark = SparkSession.builder \\\n",
    "        .master('spark://spark:7077') \\\n",
    "        .config(\n",
    "            \"spark.archives\",\"pyspark_conda_env.tar.gz#environment\"\n",
    "        ).appName('OpenSky_app') \\\n",
    "        .getOrCreate()"
   ]
  },
  {
   "cell_type": "markdown",
   "id": "c56f9a23",
   "metadata": {},
   "source": [
    "### Load states boundaries dataset"
   ]
  },
  {
   "cell_type": "code",
   "execution_count": null,
   "id": "c27a40ce",
   "metadata": {},
   "outputs": [],
   "source": [
    "#Load data from local file to geoDataFrame\n",
    "geo_admin_url = 'admin1-us.geojson'\n",
    "gdf_states = GeoDataFrame.from_file(geo_admin_url)\n",
    "\n",
    "#Convert coordinates to WKT - basicaly a string\n",
    "gdf_states['wkt'] = pd.Series(\n",
    "        map(lambda geom: str(geom.to_wkt()), gdf_states['geometry']),\n",
    "        index=gdf_states.index, dtype='string')\n",
    "\n",
    "#Create pySpark dataframe and broadcast it as a JSON\n",
    "spark_states_df = spark.createDataFrame(gdf_states[['name','state_code','wkt']])\n",
    "spark_states_df_JSON = spark_states_df.toJSON().collect()\n",
    "states_bc = spark.sparkContext.broadcast(spark_states_df_JSON )"
   ]
  },
  {
   "cell_type": "markdown",
   "id": "de3640ea",
   "metadata": {},
   "source": [
    "### Registrate UDF to get the state name to df"
   ]
  },
  {
   "cell_type": "code",
   "execution_count": null,
   "id": "50744620",
   "metadata": {},
   "outputs": [],
   "source": [
    "@udf(returnType=StringType())\n",
    "def define_state(wkt_point):\n",
    "    states = pd.DataFrame.from_records([json.loads(c) for c in states_bc.value])\n",
    "    polygons = [wkt.loads(w) for w in states['wkt']]\n",
    "    gdf = GeoDataFrame(states, geometry=polygons, crs='epsg:4326')\n",
    "    intersected_poligons = gdf[gdf.contains(wkt.loads(wkt_point))]\n",
    "    if not intersected_poligons.empty:\n",
    "        return gdf['name'][0]\n",
    "    else:\n",
    "        return None"
   ]
  },
  {
   "cell_type": "markdown",
   "id": "bb8ca021",
   "metadata": {},
   "source": [
    "### Create dataframe from data, localy located"
   ]
  },
  {
   "cell_type": "code",
   "execution_count": null,
   "id": "eba01635",
   "metadata": {},
   "outputs": [],
   "source": [
    "df=spark.read.csv('/opt/bitnami/spark/temp/states_2022-01-03-00.csv',inferSchema =True, header = True)"
   ]
  },
  {
   "cell_type": "markdown",
   "id": "feba4232",
   "metadata": {},
   "source": [
    "### Create UDF to transform lat/long to WKT"
   ]
  },
  {
   "cell_type": "code",
   "execution_count": null,
   "id": "3410c45a",
   "metadata": {},
   "outputs": [],
   "source": [
    "@udf(returnType=StringType())\n",
    "def create_WKT(lat, lon):\n",
    "    shapely_point = Point(lat, lon)\n",
    "    return shapely_point.to_wkt()\n",
    "    "
   ]
  },
  {
   "cell_type": "markdown",
   "id": "e6d5f31a",
   "metadata": {},
   "source": [
    "### Discover data schema"
   ]
  },
  {
   "cell_type": "code",
   "execution_count": null,
   "id": "bf189c39-c4de-4fea-b9b5-4679aa315ea1",
   "metadata": {},
   "outputs": [],
   "source": [
    "df.printSchema()"
   ]
  },
  {
   "cell_type": "markdown",
   "id": "ff0f44f4",
   "metadata": {},
   "source": [
    "### Discover first two data rows as a sample"
   ]
  },
  {
   "cell_type": "code",
   "execution_count": null,
   "id": "8d11addd-635c-48c2-b004-55728a82dcd9",
   "metadata": {},
   "outputs": [],
   "source": [
    "%%time\n",
    "df.show(2, vertical=True)"
   ]
  },
  {
   "cell_type": "markdown",
   "id": "18bdbfae",
   "metadata": {},
   "source": [
    "# A total number of flying vehicles in particular Monday.\n",
    "\n",
    "To know that we need to count unique icao24 identifiers"
   ]
  },
  {
   "cell_type": "code",
   "execution_count": null,
   "id": "49643158",
   "metadata": {},
   "outputs": [],
   "source": [
    "unicue_vehicles = df.select('icao24').distinct().count()\n",
    "print(f'Number of unique vehicles is {unicue_vehicles}')"
   ]
  },
  {
   "cell_type": "markdown",
   "id": "25c20c85",
   "metadata": {},
   "source": [
    "### Modify DataFrame and add a column with WKT coordinates"
   ]
  },
  {
   "cell_type": "code",
   "execution_count": null,
   "id": "f62cad76",
   "metadata": {},
   "outputs": [],
   "source": [
    "df.dropna() \\\n",
    ".withColumn('point_wkt', create_WKT(col('lat'), col('lon'))) \\\n",
    ".withColumn('US_state', define_state(col('point_WKT'))) \\\n",
    ".collect()"
   ]
  },
  {
   "cell_type": "code",
   "execution_count": null,
   "id": "0e58fc1d",
   "metadata": {},
   "outputs": [],
   "source": [
    "df.dropna().withColumn('point_wkt', create_WKT(col('lat'), col('lon'))).sample(fraction=0.5).withColumn('US_state', define_state(col('point_WKT'))).collect()"
   ]
  },
  {
   "cell_type": "code",
   "execution_count": null,
   "id": "a8b54614",
   "metadata": {},
   "outputs": [],
   "source": [
    "df.printSchema()"
   ]
  },
  {
   "cell_type": "code",
   "execution_count": null,
   "id": "a6684db6",
   "metadata": {},
   "outputs": [],
   "source": [
    "df.cache()"
   ]
  },
  {
   "cell_type": "code",
   "execution_count": null,
   "id": "6334ac1b",
   "metadata": {},
   "outputs": [],
   "source": []
  }
 ],
 "metadata": {
  "kernelspec": {
   "display_name": "Python 3",
   "language": "python",
   "name": "python3"
  },
  "language_info": {
   "codemirror_mode": {
    "name": "ipython",
    "version": 3
   },
   "file_extension": ".py",
   "mimetype": "text/x-python",
   "name": "python",
   "nbconvert_exporter": "python",
   "pygments_lexer": "ipython3",
   "version": "3.8.8"
  },
  "vscode": {
   "interpreter": {
    "hash": "9d8ebf28e1eb46e34553828ab0af705a525e470337b2a6b5564f9d4d982e1a6c"
   }
  }
 },
 "nbformat": 4,
 "nbformat_minor": 5
}
